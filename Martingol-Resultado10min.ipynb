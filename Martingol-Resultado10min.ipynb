{
  "nbformat": 4,
  "nbformat_minor": 0,
  "metadata": {
    "colab": {
      "name": "Cópia de Cópia de Cópia de BackTeste Vinicius Gonzalez.ipynb",
      "provenance": [],
      "collapsed_sections": [],
      "private_outputs": true,
      "include_colab_link": true
    },
    "kernelspec": {
      "name": "python3",
      "display_name": "Python 3"
    },
    "language_info": {
      "name": "python"
    }
  },
  "cells": [
    {
      "cell_type": "markdown",
      "metadata": {
        "id": "view-in-github",
        "colab_type": "text"
      },
      "source": [
        "<a href=\"https://colab.research.google.com/github/gonzalezvini/Martingol/blob/main/Martingol-Resultado10min.ipynb\" target=\"_parent\"><img src=\"https://colab.research.google.com/assets/colab-badge.svg\" alt=\"Open In Colab\"/></a>"
      ]
    },
    {
      "cell_type": "markdown",
      "source": [
        "# Passo 1: Importar as Bibliotecas"
      ],
      "metadata": {
        "id": "vFfEcSd1vKo4"
      }
    },
    {
      "cell_type": "code",
      "source": [
        "#importando bibliotecas\n",
        "import pandas as pd\n",
        "\n",
        "from google.colab import data_table\n",
        "data_table.enable_dataframe_formatter()\n",
        "\n",
        "import warnings\n",
        "warnings.filterwarnings('ignore')"
      ],
      "metadata": {
        "id": "v-tqgdbprIFR"
      },
      "execution_count": null,
      "outputs": []
    },
    {
      "cell_type": "markdown",
      "source": [
        "# Passo 2: Ler os jogos finalizados"
      ],
      "metadata": {
        "id": "Jym5CsZ0ilyw"
      }
    },
    {
      "cell_type": "code",
      "source": [
        "df = pd.read_excel(\"https://github.com/leandrofilho07/ViniciusGonzalez/blob/main/footystats.xlsx?raw=true\")\n",
        "df = df[['Date','League','Home Name','Away Name','Home Goal Count','Away Goal Count','FT Result','Ht Goals Team A','Ht Goals Team B','HT Result','Odds Ft 1','Odds Ft X','Odds Ft 2','Odds Ft Over05','Odds Ft Over15','Odds Ft Over25','Odds Btts Yes']]\n",
        "df.columns = ['Date','League','Home','Away','FT_Goals_H','FT_Goals_A','FT_Result','HT_Goals_H','HT_Goals_A','HT_Result','Odds_H','Odds_D','Odds_A','FT_Odds_Over05','FT_Odds_Over15','FT_Odds_Over25','Odds_BTTS_Yes']\n",
        "final = df"
      ],
      "metadata": {
        "id": "tgLAGqcEwX3_"
      },
      "execution_count": null,
      "outputs": []
    },
    {
      "cell_type": "markdown",
      "source": [
        "# Passo 3: Cálculos das médias, desvio padrão, coeficiente de variação"
      ],
      "metadata": {
        "id": "1tYu5y1prkHj"
      }
    },
    {
      "cell_type": "code",
      "source": [
        "# calculos das médias \n",
        "media5 = 5\n",
        "media10 = 5\n",
        "\n",
        "# Médias de gols - 5 periodos\n",
        "final['md5_g_feitos_home_ft'] = final.groupby('Home')['FT_Goals_H'].rolling(media5).mean().reset_index(0,drop=True).shift(1)\n",
        "final['md5_g_sofridos_home_ft'] = final.groupby('Home')['FT_Goals_A'].rolling(media5).mean().reset_index(0,drop=True).shift(1)\n",
        "\n",
        "final['md5_g_feitos_away_ft'] = final.groupby('Away')['FT_Goals_A'].rolling(media5).mean().reset_index(0,drop=True).shift(1)\n",
        "final['md5_g_sofridos_away_ft'] = final.groupby('Away')['FT_Goals_H'].rolling(media5).mean().reset_index(0,drop=True).shift(1)\n",
        "\n",
        "# Desvio padrão - 5 periodos\n",
        "final['dp5_g_feitos_home_ft'] = final.groupby('Home')['FT_Goals_H'].rolling(media5).std().reset_index(0,drop=True).shift(1)\n",
        "final['dp5_g_sofridos_home_ft'] = final.groupby('Home')['FT_Goals_A'].rolling(media5).std().reset_index(0,drop=True).shift(1)\n",
        "\n",
        "final['dp5_g_feitos_away_ft'] = final.groupby('Away')['FT_Goals_A'].rolling(media5).std().reset_index(0,drop=True).shift(1)\n",
        "final['dp5_g_sofridos_away_ft'] = final.groupby('Away')['FT_Goals_H'].rolling(media5).std().reset_index(0,drop=True).shift(1)\n",
        "\n",
        "# Coeficiente de variação - 5 periodos\n",
        "final['cv5_g_feitos_home_ft'] = (final['dp5_g_feitos_home_ft'] / final['md5_g_feitos_home_ft']).shift(1)\n",
        "final['cv5_g_sofridos_home_ft'] = (final['dp5_g_sofridos_home_ft'] / final['md5_g_sofridos_home_ft']).shift(1)\n",
        "\n",
        "final['cv5_g_feitos_away_ft'] = (final['dp5_g_feitos_away_ft'] / final['md5_g_feitos_away_ft']).shift(1)\n",
        "final['cv5_g_sofridos_away_ft'] = (final['dp5_g_sofridos_away_ft'] / final['md5_g_sofridos_away_ft']).shift(1)\n",
        "\n",
        "# Médias de gols - 10 periodos\n",
        "final['md10_g_feitos_home_ft'] = final.groupby('Home')['FT_Goals_H'].rolling(media10).mean().reset_index(0,drop=True).shift(1)\n",
        "final['md10_g_sofridos_home_ft'] = final.groupby('Home')['FT_Goals_A'].rolling(media10).mean().reset_index(0,drop=True).shift(1)\n",
        "\n",
        "final['md10_g_feitos_away_ft'] = final.groupby('Away')['FT_Goals_A'].rolling(media10).mean().reset_index(0,drop=True).shift(1)\n",
        "final['md10_g_sofridos_away_ft'] = final.groupby('Away')['FT_Goals_H'].rolling(media10).mean().reset_index(0,drop=True).shift(1)\n",
        "\n",
        "# Desvio padrão - 10 periodos\n",
        "final['dp10_g_feitos_home_ft'] = final.groupby('Home')['FT_Goals_H'].rolling(media10).std().reset_index(0,drop=True).shift(1)\n",
        "final['dp10_g_sofridos_home_ft'] = final.groupby('Home')['FT_Goals_A'].rolling(media10).std().reset_index(0,drop=True).shift(1)\n",
        "\n",
        "final['dp10_g_feitos_away_ft'] = final.groupby('Away')['FT_Goals_A'].rolling(media10).std().reset_index(0,drop=True).shift(1)\n",
        "final['dp10_g_sofridos_away_ft'] = final.groupby('Away')['FT_Goals_H'].rolling(media10).std().reset_index(0,drop=True).shift(1)\n",
        "\n",
        "# Coeficiente de variação - 10 periodos\n",
        "final['cv10_g_feitos_home_ft'] = (final['dp10_g_feitos_home_ft'] / final['md10_g_feitos_home_ft']).shift(1)\n",
        "final['cv10_g_sofridos_home_ft'] = (final['dp10_g_sofridos_home_ft'] / final['md10_g_sofridos_home_ft']).shift(1)\n",
        "\n",
        "final['cv10_g_feitos_away_ft'] = (final['dp10_g_feitos_away_ft'] / final['md10_g_feitos_away_ft']).shift(1)\n",
        "final['cv10_g_sofridos_away_ft'] = (final['dp10_g_sofridos_away_ft'] / final['md10_g_sofridos_away_ft']).shift(1)\n",
        "\n",
        "final['FT_TotalGoals'] = final.apply(lambda row: (row['FT_Goals_H'] + row['FT_Goals_A']), axis=1) \n",
        "final['HT_TotalGoals'] = final.apply(lambda row: (row['HT_Goals_H'] + row['HT_Goals_A']), axis=1) \n",
        "\n",
        "final['over05ft'] = final.apply(lambda row: 1 if (row['FT_TotalGoals'] >= 1) \n",
        "                                        else 0, axis=1) \n",
        "\n",
        "final['over05ht'] = final.apply(lambda row: 1 if (row['HT_TotalGoals'] >= 1) \n",
        "                                        else 0, axis=1)  \n",
        "\n",
        "final['over15ft'] = final.apply(lambda row: 1 if (row['FT_TotalGoals'] > 1) \n",
        "                                        else 0, axis=1)\n",
        "\n",
        "final['over25ft'] = final.apply(lambda row: 1 if (row['FT_TotalGoals'] > 2) \n",
        "                                        else 0, axis=1) \n",
        "\n",
        "final['btts_ft'] = final.apply(lambda row: 1 if (row['FT_Goals_H'] > 0 and row['FT_Goals_A'] > 0) \n",
        "                                        else 0, axis=1) \n",
        "\n",
        "# Percentual mercado de gols - 5 periodos\n",
        "final['avg5_home_05ft'] = (final.groupby('Home')['over05ft'].rolling(media5).mean().reset_index(0,drop=True) * 100).shift(1)\n",
        "final['avg5_away_05ft'] = (final.groupby('Away')['over05ft'].rolling(media5).mean().reset_index(0,drop=True) * 100).shift(1)\n",
        "final['avg5_home_05ht'] = (final.groupby('Home')['over05ht'].rolling(media5).mean().reset_index(0,drop=True) * 100).shift(1)\n",
        "final['avg5_away_05ht'] = (final.groupby('Away')['over05ht'].rolling(media5).mean().reset_index(0,drop=True) * 100).shift(1)\n",
        "final['avg5_home_15ft'] = (final.groupby('Home')['over15ft'].rolling(media5).mean().reset_index(0,drop=True) * 100).shift(1)\n",
        "final['avg5_away_15ft'] = (final.groupby('Away')['over15ft'].rolling(media5).mean().reset_index(0,drop=True) * 100).shift(1)\n",
        "final['avg5_home_25ft'] = (final.groupby('Home')['over25ft'].rolling(media5).mean().reset_index(0,drop=True) * 100).shift(1)\n",
        "final['avg5_away_25ft'] = (final.groupby('Away')['over25ft'].rolling(media5).mean().reset_index(0,drop=True) * 100).shift(1)\n",
        "final['avg5_home_btts'] = (final.groupby('Home')['btts_ft'].rolling(media5).mean().reset_index(0,drop=True) * 100).shift(1)\n",
        "final['avg5_away_btts'] = (final.groupby('Away')['btts_ft'].rolling(media5).mean().reset_index(0,drop=True) * 100).shift(1)\n",
        "\n",
        "# Percentual mercado de gols - 10 periodos\n",
        "final['avg10_home_05ft'] = (final.groupby('Home')['over05ft'].rolling(media10).mean().reset_index(0,drop=True) * 100).shift(1)\n",
        "final['avg10_away_05ft'] = (final.groupby('Away')['over05ft'].rolling(media10).mean().reset_index(0,drop=True) * 100).shift(1)\n",
        "final['avg10_home_05ht'] = (final.groupby('Home')['over05ht'].rolling(media10).mean().reset_index(0,drop=True) * 100).shift(1)\n",
        "final['avg10_away_05ht'] = (final.groupby('Away')['over05ht'].rolling(media10).mean().reset_index(0,drop=True) * 100).shift(1)\n",
        "final['avg10_home_15ft'] = (final.groupby('Home')['over15ft'].rolling(media10).mean().reset_index(0,drop=True) * 100).shift(1)\n",
        "final['avg10_away_15ft'] = (final.groupby('Away')['over15ft'].rolling(media10).mean().reset_index(0,drop=True) * 100).shift(1)\n",
        "final['avg10_home_25ft'] = (final.groupby('Home')['over25ft'].rolling(media10).mean().reset_index(0,drop=True) * 100).shift(1)\n",
        "final['avg10_away_25ft'] = (final.groupby('Away')['over25ft'].rolling(media10).mean().reset_index(0,drop=True) * 100).shift(1)\n",
        "final['avg10_home_btts'] = (final.groupby('Home')['btts_ft'].rolling(media10).mean().reset_index(0,drop=True) * 100).shift(1)\n",
        "final['avg10_away_btts'] = (final.groupby('Away')['btts_ft'].rolling(media10).mean().reset_index(0,drop=True) * 100).shift(1)"
      ],
      "metadata": {
        "id": "UfJssd3JvujZ"
      },
      "execution_count": null,
      "outputs": []
    },
    {
      "cell_type": "markdown",
      "source": [
        "# Passo 7: Seleciona os critérios para Over 0.5 HT"
      ],
      "metadata": {
        "id": "ZTeVH5wZtj6S"
      }
    },
    {
      "cell_type": "code",
      "source": [
        "# seleciona para os critérios definidos\n",
        "# over 0.5 ht home >= 70 - últimos 5 jogos\n",
        "# over 0.5 ht away >= 70 - últimos 5 jogos\n",
        "# over 0.5 ht home >= 60 - últimos 10 jogos\n",
        "# over 0.5 ht away >= 60 - últimos 10 jogos\n",
        "# over 1.5 ft home >= 70 - últimos 5 jogos\n",
        "# over 1.5 ft away >= 70 - últimos 5 jogos\n",
        "# over 1.5 ft home >= 70 - últimos 10 jogos\n",
        "# over 1.5 ft away >= 70 - últimos 10 jogos\n",
        "# média gols feitos + sofridos home >= 1 - últimos 5 jogos\n",
        "# média gols feitos + sofridos away >= 1 - últimos 5 jogos\n",
        "\n",
        "Over05_HT =((final['avg5_home_05ht'] >= 0) & (final['avg5_away_05ht'] >= 0) &\n",
        "             (final['avg10_home_05ht'] >= 0) & (final['avg10_away_05ht'] >= 0) &\n",
        "             (final['avg5_home_25ft'] >= 55) & (final['avg5_away_15ft'] >= 0) & \n",
        "             (final['avg10_home_25ft'] >= 55) & (final['avg10_away_15ft'] >= 0) &\n",
        "             (final['md5_g_feitos_home_ft'] >= 1) & \n",
        "             ( final['md5_g_sofridos_away_ft'] >= 1) &\n",
        "             ((final['FT_Odds_Over15'] <= 1.75) & (final['Odds_H'] <=1.75) ))\n",
        "\n",
        "df = final[Over05_HT]\n",
        "df = df.dropna()\n",
        "# Ajustando o Índice\n",
        "df.reset_index(inplace=True, drop=True)\n",
        "df.index = df.index.set_names(['Nº'])\n",
        "df = df.rename(index=lambda x: x + 1)\n",
        "\n",
        "green = 1 \n",
        "red = 0\n",
        "\n",
        "# Over 0.5 HT\n",
        "df.loc[((df['HT_TotalGoals']) > 0), 'Acertos_Over05HT'] = green\n",
        "df.loc[((df['HT_TotalGoals']) == 0), 'Acertos_Over05HT'] = red\n",
        "df['Acertos_acu_Over05HT'] = df.Acertos_Over05HT.cumsum()\n",
        "df.Acertos_acu_Over05HT.plot(title='Over 0.5 HT', xlabel='Quantidade de Apostas', ylabel='Acertos')\n",
        "\n",
        "df['Acertos_acu_Over05HT'].tail(1)"
      ],
      "metadata": {
        "id": "L_8wACu4tk_g"
      },
      "execution_count": null,
      "outputs": []
    },
    {
      "cell_type": "markdown",
      "source": [
        ""
      ],
      "metadata": {
        "id": "bouEq_ZXt_n0"
      }
    },
    {
      "cell_type": "code",
      "source": [
        "#apagando linhas desnecessárias\n",
        "df.drop(df.loc[df['Acertos_Over05HT']==1].index, inplace=True)\n",
        "df = df[df['League'].str.contains('Iceland Úrvalsdeild|Germany 2. Bundesliga|Croatia Prva HNL|Republic of Ireland Premier Division|China Chinese Super League|USA MLS|Switzerland Challenge League|Brazil Serie C|Bulgaria First League|Serbia SuperLiga|Austria 2. Liga|Belgium First Division B|Brazil Serie B|Russia Russian Premier League|Netherlands Eerste Divisie|South America Copa Libertadores|Europe UEFA Champions League|Estonia Meistriliiga|Wales Welsh Premier League')==False]\n",
        "\n",
        "#Selecionando datas específicas\n",
        "df['Date'] = pd.to_datetime(df['Date'])\n",
        "newdf = (df['Date'] >= '2021-01-01') & (df['Date'] <= '2022-12-31')\n",
        "# locate rows and access them using .loc() function\n",
        "newdf = df.loc[newdf]\n",
        "len(newdf)\n"
      ],
      "metadata": {
        "id": "HLSp5pemr6Tn"
      },
      "execution_count": null,
      "outputs": []
    },
    {
      "cell_type": "code",
      "source": [
        "newdf1 = (newdf['FT_Goals_H']> 0)\n",
        "newdf1 = newdf.loc[newdf1]\n",
        "len(newdf1)"
      ],
      "metadata": {
        "id": "1kGvHJ1qK27t"
      },
      "execution_count": null,
      "outputs": []
    },
    {
      "cell_type": "code",
      "source": [
        "newdf2 = (newdf['FT_Goals_H'] == 0)\n",
        "newdf2 = newdf.loc[newdf2]\n",
        "len(newdf2)\n"
      ],
      "metadata": {
        "id": "rmvjxGyHDt6t"
      },
      "execution_count": null,
      "outputs": []
    },
    {
      "cell_type": "code",
      "source": [
        "newdf.to_excel(\"new para Over 0.5 HT.xlsx\", sheet_name='Over 05HT', encoding='utf-8', index=False)"
      ],
      "metadata": {
        "id": "42A0y1D1rjxU"
      },
      "execution_count": null,
      "outputs": []
    }
  ]
}