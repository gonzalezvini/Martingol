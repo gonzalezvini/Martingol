{
  "nbformat": 4,
  "nbformat_minor": 0,
  "metadata": {
    "colab": {
      "name": "Cópia de Método Vinicius Gonzalez.ipynb",
      "provenance": [],
      "collapsed_sections": [],
      "private_outputs": true,
      "include_colab_link": true
    },
    "kernelspec": {
      "name": "python3",
      "display_name": "Python 3"
    },
    "language_info": {
      "name": "python"
    }
  },
  "cells": [
    {
      "cell_type": "markdown",
      "metadata": {
        "id": "view-in-github",
        "colab_type": "text"
      },
      "source": [
        "<a href=\"https://colab.research.google.com/github/gonzalezvini/Martingol/blob/main/C%C3%B3pia_de_M%C3%A9todo_Vinicius_Gonzalez.ipynb\" target=\"_parent\"><img src=\"https://colab.research.google.com/assets/colab-badge.svg\" alt=\"Open In Colab\"/></a>"
      ]
    },
    {
      "cell_type": "markdown",
      "source": [
        "# Passo 1: Importar as Bibliotecas"
      ],
      "metadata": {
        "id": "vFfEcSd1vKo4"
      }
    },
    {
      "cell_type": "code",
      "source": [
        "#importando bibliotecas\n",
        "import pandas as pd\n",
        "\n",
        "from google.colab import data_table\n",
        "data_table.enable_dataframe_formatter()\n",
        "\n",
        "import warnings\n",
        "warnings.filterwarnings('ignore')"
      ],
      "metadata": {
        "id": "v-tqgdbprIFR"
      },
      "execution_count": null,
      "outputs": []
    },
    {
      "cell_type": "markdown",
      "source": [
        "# Passo 2: Ler os jogos finalizados"
      ],
      "metadata": {
        "id": "Jym5CsZ0ilyw"
      }
    },
    {
      "cell_type": "code",
      "source": [
        "df = pd.read_excel(\"https://github.com/leandrofilho07/ViniciusGonzalez/blob/main/footystats.xlsx?raw=true\")\n",
        "df = df[['Date','League','Home Name','Away Name','Home Goal Count','Away Goal Count','FT Result','Ht Goals Team A','Ht Goals Team B','HT Result','Odds Ft 1','Odds Ft X','Odds Ft 2','Odds Ft Over05','Odds Ft Over15','Odds Ft Over25','Odds Btts Yes']]\n",
        "df.columns = ['Date','League','Home','Away','FT_Goals_H','FT_Goals_A','FT_Result','HT_Goals_H','HT_Goals_A','HT_Result','Odds_H','Odds_D','Odds_A','FT_Odds_Over05','FT_Odds_Over15','FT_Odds_Over25','Odds_BTTS_Yes']\n",
        "final = df"
      ],
      "metadata": {
        "id": "tgLAGqcEwX3_"
      },
      "execution_count": null,
      "outputs": []
    },
    {
      "cell_type": "markdown",
      "source": [
        "# Passo 3: Cálculos das médias, desvio padrão, coeficiente de variação"
      ],
      "metadata": {
        "id": "1tYu5y1prkHj"
      }
    },
    {
      "cell_type": "code",
      "source": [
        "# calculos das médias \n",
        "media5 = 10\n",
        "media10 = 10\n",
        "\n",
        "# Médias de gols - 5 periodos\n",
        "final['md5_g_feitos_home_ft'] = final.groupby('Home')['FT_Goals_H'].rolling(media5).mean().reset_index(0,drop=True)\n",
        "final['md5_g_sofridos_home_ft'] = final.groupby('Home')['FT_Goals_A'].rolling(media5).mean().reset_index(0,drop=True)\n",
        "\n",
        "final['md5_g_feitos_away_ft'] = final.groupby('Away')['FT_Goals_A'].rolling(media5).mean().reset_index(0,drop=True)\n",
        "final['md5_g_sofridos_away_ft'] = final.groupby('Away')['FT_Goals_H'].rolling(media5).mean().reset_index(0,drop=True)\n",
        "\n",
        "# Desvio padrão - 5 periodos\n",
        "final['dp5_g_feitos_home_ft'] = final.groupby('Home')['FT_Goals_H'].rolling(media5).std().reset_index(0,drop=True)\n",
        "final['dp5_g_sofridos_home_ft'] = final.groupby('Home')['FT_Goals_A'].rolling(media5).std().reset_index(0,drop=True)\n",
        "\n",
        "final['dp5_g_feitos_away_ft'] = final.groupby('Away')['FT_Goals_A'].rolling(media5).std().reset_index(0,drop=True)\n",
        "final['dp5_g_sofridos_away_ft'] = final.groupby('Away')['FT_Goals_H'].rolling(media5).std().reset_index(0,drop=True)\n",
        "\n",
        "# Coeficiente de variação - 5 periodos\n",
        "final['cv5_g_feitos_home_ft'] = final['dp5_g_feitos_home_ft'] / final['md5_g_feitos_home_ft']\n",
        "final['cv5_g_sofridos_home_ft'] = final['dp5_g_sofridos_home_ft'] / final['md5_g_sofridos_home_ft']\n",
        "\n",
        "final['cv5_g_feitos_away_ft'] = final['dp5_g_feitos_away_ft'] / final['md5_g_feitos_away_ft']\n",
        "final['cv5_g_sofridos_away_ft'] = final['dp5_g_sofridos_away_ft'] / final['md5_g_sofridos_away_ft']\n",
        "\n",
        "# Médias de gols - 10 periodos\n",
        "final['md10_g_feitos_home_ft'] = final.groupby('Home')['FT_Goals_H'].rolling(media10).mean().reset_index(0,drop=True)\n",
        "final['md10_g_sofridos_home_ft'] = final.groupby('Home')['FT_Goals_A'].rolling(media10).mean().reset_index(0,drop=True)\n",
        "\n",
        "final['md10_g_feitos_away_ft'] = final.groupby('Away')['FT_Goals_A'].rolling(media10).mean().reset_index(0,drop=True)\n",
        "final['md10_g_sofridos_away_ft'] = final.groupby('Away')['FT_Goals_H'].rolling(media10).mean().reset_index(0,drop=True)\n",
        "\n",
        "# Desvio padrão - 10 periodos\n",
        "final['dp10_g_feitos_home_ft'] = final.groupby('Home')['FT_Goals_H'].rolling(media10).std().reset_index(0,drop=True)\n",
        "final['dp10_g_sofridos_home_ft'] = final.groupby('Home')['FT_Goals_A'].rolling(media10).std().reset_index(0,drop=True)\n",
        "\n",
        "final['dp10_g_feitos_away_ft'] = final.groupby('Away')['FT_Goals_A'].rolling(media10).std().reset_index(0,drop=True)\n",
        "final['dp10_g_sofridos_away_ft'] = final.groupby('Away')['FT_Goals_H'].rolling(media10).std().reset_index(0,drop=True)\n",
        "\n",
        "# Coeficiente de variação - 10 periodos\n",
        "final['cv10_g_feitos_home_ft'] = final['dp10_g_feitos_home_ft'] / final['md10_g_feitos_home_ft']\n",
        "final['cv10_g_sofridos_home_ft'] = final['dp10_g_sofridos_home_ft'] / final['md10_g_sofridos_home_ft']\n",
        "\n",
        "final['cv10_g_feitos_away_ft'] = final['dp10_g_feitos_away_ft'] / final['md10_g_feitos_away_ft']\n",
        "final['cv10_g_sofridos_away_ft'] = final['dp10_g_sofridos_away_ft'] / final['md10_g_sofridos_away_ft']\n",
        "\n",
        "final['FT_TotalGoals'] = final.apply(lambda row: (row['FT_Goals_H'] + row['FT_Goals_A']), axis=1) \n",
        "final['HT_TotalGoals'] = final.apply(lambda row: (row['HT_Goals_H'] + row['HT_Goals_A']), axis=1) \n",
        "\n",
        "final['over05ft'] = final.apply(lambda row: 1 if (row['FT_TotalGoals'] >= 1) \n",
        "                                        else 0, axis=1) \n",
        "\n",
        "final['over05ht'] = final.apply(lambda row: 1 if (row['HT_TotalGoals'] >= 1) \n",
        "                                        else 0, axis=1)  \n",
        "\n",
        "final['over15ft'] = final.apply(lambda row: 1 if (row['FT_TotalGoals'] > 1) \n",
        "                                        else 0, axis=1)\n",
        "\n",
        "final['over25ft'] = final.apply(lambda row: 1 if (row['FT_TotalGoals'] > 2) \n",
        "                                        else 0, axis=1) \n",
        "\n",
        "final['btts_ft'] = final.apply(lambda row: 1 if (row['FT_Goals_H'] > 0 and row['FT_Goals_A'] > 0) \n",
        "                                        else 0, axis=1) \n",
        "\n",
        "# Percentual mercado de gols - 5 periodos\n",
        "final['avg5_home_05ft'] = (final.groupby('Home')['over05ft'].rolling(media5).mean().reset_index(0,drop=True) * 100)\n",
        "final['avg5_away_05ft'] = (final.groupby('Away')['over05ft'].rolling(media5).mean().reset_index(0,drop=True) * 100)\n",
        "final['avg5_home_05ht'] = (final.groupby('Home')['over05ht'].rolling(media5).mean().reset_index(0,drop=True) * 100)\n",
        "final['avg5_away_05ht'] = (final.groupby('Away')['over05ht'].rolling(media5).mean().reset_index(0,drop=True) * 100)\n",
        "final['avg5_home_15ft'] = (final.groupby('Home')['over15ft'].rolling(media5).mean().reset_index(0,drop=True) * 100)\n",
        "final['avg5_away_15ft'] = (final.groupby('Away')['over15ft'].rolling(media5).mean().reset_index(0,drop=True) * 100)\n",
        "final['avg5_home_25ft'] = (final.groupby('Home')['over25ft'].rolling(media5).mean().reset_index(0,drop=True) * 100)\n",
        "final['avg5_away_25ft'] = (final.groupby('Away')['over25ft'].rolling(media5).mean().reset_index(0,drop=True) * 100)\n",
        "final['avg5_home_btts'] = (final.groupby('Home')['btts_ft'].rolling(media5).mean().reset_index(0,drop=True) * 100)\n",
        "final['avg5_away_btts'] = (final.groupby('Away')['btts_ft'].rolling(media5).mean().reset_index(0,drop=True) * 100)\n",
        "\n",
        "# Percentual mercado de gols - 10 periodos\n",
        "final['avg10_home_05ft'] = (final.groupby('Home')['over05ft'].rolling(media10).mean().reset_index(0,drop=True) * 100)\n",
        "final['avg10_away_05ft'] = (final.groupby('Away')['over05ft'].rolling(media10).mean().reset_index(0,drop=True) * 100)\n",
        "final['avg10_home_05ht'] = (final.groupby('Home')['over05ht'].rolling(media10).mean().reset_index(0,drop=True) * 100)\n",
        "final['avg10_away_05ht'] = (final.groupby('Away')['over05ht'].rolling(media10).mean().reset_index(0,drop=True) * 100)\n",
        "final['avg10_home_15ft'] = (final.groupby('Home')['over15ft'].rolling(media10).mean().reset_index(0,drop=True) * 100)\n",
        "final['avg10_away_15ft'] = (final.groupby('Away')['over15ft'].rolling(media10).mean().reset_index(0,drop=True) * 100)\n",
        "final['avg10_home_25ft'] = (final.groupby('Home')['over25ft'].rolling(media10).mean().reset_index(0,drop=True) * 100)\n",
        "final['avg10_away_25ft'] = (final.groupby('Away')['over25ft'].rolling(media10).mean().reset_index(0,drop=True) * 100)\n",
        "final['avg10_home_btts'] = (final.groupby('Home')['btts_ft'].rolling(media10).mean().reset_index(0,drop=True) * 100)\n",
        "final['avg10_away_btts'] = (final.groupby('Away')['btts_ft'].rolling(media10).mean().reset_index(0,drop=True) * 100)"
      ],
      "metadata": {
        "id": "UfJssd3JvujZ"
      },
      "execution_count": null,
      "outputs": []
    },
    {
      "cell_type": "markdown",
      "source": [
        "# Passo 4: Selecionando apenas o último registo de cada equipe"
      ],
      "metadata": {
        "id": "GcJhp_zuryZM"
      }
    },
    {
      "cell_type": "code",
      "source": [
        "#pega o último registro calculado\n",
        "# criando um dataframe para armazenar informações do Home\n",
        "df_home = pd.DataFrame()\n",
        "\n",
        "df_home['Home'] = final.groupby('Home')['Home'].transform('last')\n",
        "df_home['md5_gols_feitos_home_ft'] = final.groupby('Home')['md5_g_feitos_home_ft'].transform('last')\n",
        "df_home['cv5_gols_feitos_home_ft'] = final.groupby('Home')['cv5_g_feitos_home_ft'].transform('last')\n",
        "df_home['md5_gols_sofridos_home_ft'] = final.groupby('Home')['md5_g_sofridos_home_ft'].transform('last')\n",
        "df_home['cv5_gols_sofridos_home_ft'] = final.groupby('Home')['cv5_g_sofridos_home_ft'].transform('last')\n",
        "df_home['md5_home_05ft'] = final.groupby('Home')['avg5_home_05ft'].transform('last')\n",
        "df_home['md5_home_05ht'] = final.groupby('Home')['avg5_home_05ht'].transform('last')\n",
        "df_home['md5_home_15ft'] = final.groupby('Home')['avg5_home_15ft'].transform('last')\n",
        "df_home['md5_home_25ft'] = final.groupby('Home')['avg5_home_25ft'].transform('last')\n",
        "df_home['md5_home_btts'] = final.groupby('Home')['avg5_home_btts'].transform('last')\n",
        "df_home['md10_gols_feitos_home_ft'] = final.groupby('Home')['md10_g_feitos_home_ft'].transform('last')\n",
        "df_home['cv10_gols_feitos_home_ft'] = final.groupby('Home')['cv10_g_feitos_home_ft'].transform('last')\n",
        "df_home['md10_gols_sofridos_home_ft'] = final.groupby('Home')['md10_g_sofridos_home_ft'].transform('last')\n",
        "df_home['cv10_gols_sofridos_home_ft'] = final.groupby('Home')['cv10_g_sofridos_home_ft'].transform('last')\n",
        "df_home['md10_home_05ft'] = final.groupby('Home')['avg10_home_05ft'].transform('last')\n",
        "df_home['md10_home_05ht'] = final.groupby('Home')['avg10_home_05ht'].transform('last')\n",
        "df_home['md10_home_15ft'] = final.groupby('Home')['avg10_home_15ft'].transform('last')\n",
        "df_home['md10_home_25ft'] = final.groupby('Home')['avg10_home_25ft'].transform('last')\n",
        "df_home['md10_home_btts'] = final.groupby('Home')['avg10_home_btts'].transform('last')\n",
        "\n",
        "# criando um dataframe para armazenar informações do Away\n",
        "df_away = pd.DataFrame()\n",
        "\n",
        "df_away['Away'] = final.groupby('Away')['Away'].transform('last')\n",
        "df_away['md5_gols_feitos_away_ft'] = final.groupby('Away')['md5_g_feitos_away_ft'].transform('last')\n",
        "df_away['cv5_gols_feitos_away_ft'] = final.groupby('Away')['cv5_g_feitos_away_ft'].transform('last')\n",
        "df_away['md5_gols_sofridos_away_ft'] = final.groupby('Away')['md5_g_sofridos_away_ft'].transform('last')\n",
        "df_away['cv5_g_sofridos_away_ft'] = final.groupby('Away')['cv5_g_sofridos_away_ft'].transform('last')\n",
        "df_away['md5_away_05ft'] = final.groupby('Away')['avg5_away_05ft'].transform('last')\n",
        "df_away['md5_away_05ht'] = final.groupby('Away')['avg5_away_05ht'].transform('last')\n",
        "df_away['md5_away_15ft'] = final.groupby('Away')['avg5_away_15ft'].transform('last')\n",
        "df_away['md5_away_25ft'] = final.groupby('Away')['avg5_away_25ft'].transform('last')\n",
        "df_away['md5_away_btts'] = final.groupby('Away')['avg5_away_btts'].transform('last')\n",
        "\n",
        "df_away['md10_gols_feitos_away_ft'] = final.groupby('Away')['md10_g_feitos_away_ft'].transform('last')\n",
        "df_away['cv10_gols_feitos_away_ft'] = final.groupby('Away')['cv10_g_feitos_away_ft'].transform('last')\n",
        "df_away['md10_gols_sofridos_away_ft'] = final.groupby('Away')['md10_g_sofridos_away_ft'].transform('last')\n",
        "df_away['cv10_g_sofridos_away_ft'] = final.groupby('Away')['cv10_g_sofridos_away_ft'].transform('last')\n",
        "df_away['md10_away_05ft'] = final.groupby('Away')['avg10_away_05ft'].transform('last')\n",
        "df_away['md10_away_05ht'] = final.groupby('Away')['avg10_away_05ht'].transform('last')\n",
        "df_away['md10_away_15ft'] = final.groupby('Away')['avg10_away_15ft'].transform('last')\n",
        "df_away['md10_away_25ft'] = final.groupby('Away')['avg10_away_25ft'].transform('last')\n",
        "df_away['md10_away_btts'] = final.groupby('Away')['avg10_away_btts'].transform('last')"
      ],
      "metadata": {
        "id": "MyygldyI_M6a"
      },
      "execution_count": null,
      "outputs": []
    },
    {
      "cell_type": "markdown",
      "source": [
        "# Passo 5: Ler os jogos do dia"
      ],
      "metadata": {
        "id": "_0VK0_I1svjt"
      }
    },
    {
      "cell_type": "code",
      "source": [
        "# seleciona os jogos do dia\n",
        "jogos_dia = pd.read_excel('https://github.com/leandrofilho07/ViniciusGonzalez/blob/main/footystats.today.xlsx?raw=true')"
      ],
      "metadata": {
        "id": "DblnV45Vst7u"
      },
      "execution_count": null,
      "outputs": []
    },
    {
      "cell_type": "code",
      "source": [
        "jogos_dia = jogos_dia[['Date','Date Time','League','Home Name','Away Name','Odds Ft 1','Odds Ft X','Odds Ft 2','Odds Ft Over25','Odds Btts Yes']]\n",
        "jogos_dia.columns = ['Data','Hora','League','Home','Away','Odds_H','Odds_D','Odds_A','FT_Odds_Over25','Odds_BTTS_Yes']"
      ],
      "metadata": {
        "id": "htpSTIn435sp"
      },
      "execution_count": null,
      "outputs": []
    },
    {
      "cell_type": "markdown",
      "source": [
        "# Passo 6 - Junta os dataframes home e away e jogos do dia"
      ],
      "metadata": {
        "id": "GFlSfIfzs7Q7"
      }
    },
    {
      "cell_type": "code",
      "source": [
        "df3 = pd.merge(jogos_dia, df_home[['Home', 'md5_gols_feitos_home_ft', 'cv5_gols_feitos_home_ft', 'md5_gols_sofridos_home_ft', \n",
        "                             'cv5_gols_sofridos_home_ft', 'md5_home_05ft', 'md5_home_05ht',  'md5_home_15ft', 'md5_home_25ft',\n",
        "                            'md5_home_btts', 'md10_gols_feitos_home_ft', 'cv10_gols_feitos_home_ft', 'md10_gols_sofridos_home_ft', \n",
        "                             'cv10_gols_sofridos_home_ft', 'md10_home_05ft', 'md10_home_05ht',  'md10_home_15ft', 'md10_home_25ft',\n",
        "                            'md10_home_btts']], on='Home')\n",
        "                          \n",
        "df3 = df3.drop_duplicates()\n",
        "\n",
        "df4 = pd.merge(df3, df_away[['Away', 'md5_gols_feitos_away_ft', 'cv5_gols_feitos_away_ft',  'md5_gols_sofridos_away_ft',\n",
        "                             'cv5_g_sofridos_away_ft', 'md5_away_05ft', 'md5_away_05ht',   'md5_away_15ft', 'md5_away_25ft',\n",
        "                             'md5_away_btts', 'md10_gols_feitos_away_ft', 'cv10_gols_feitos_away_ft',  'md10_gols_sofridos_away_ft',\n",
        "                             'cv10_g_sofridos_away_ft', 'md10_away_05ft', 'md10_away_05ht',   'md10_away_15ft', 'md10_away_25ft',\n",
        "                             'md10_away_btts']], on='Away')\n",
        "\n",
        "df4 = df4.drop_duplicates()"
      ],
      "metadata": {
        "id": "1tGAX6eds8oL"
      },
      "execution_count": null,
      "outputs": []
    },
    {
      "cell_type": "code",
      "source": [
        "df4.to_excel('jogos_dia_completo.xlsx', sheet_name='completo', encoding='utf-8', index=False)"
      ],
      "metadata": {
        "id": "pgTaqOmmtVM_"
      },
      "execution_count": null,
      "outputs": []
    },
    {
      "cell_type": "markdown",
      "source": [
        "# Passo 7: Seleciona os critérios para Over 0.5 HT"
      ],
      "metadata": {
        "id": "ZTeVH5wZtj6S"
      }
    },
    {
      "cell_type": "code",
      "source": [
        "# seleciona para os critérios definidos\n",
        "# over 0.5 ht home >= 70 - últimos 5 jogos\n",
        "# over 0.5 ht away >= 70 - últimos 5 jogos\n",
        "# over 0.5 ht home >= 60 - últimos 10 jogos\n",
        "# over 0.5 ht away >= 60 - últimos 10 jogos\n",
        "# over 1.5 ft home >= 70 - últimos 5 jogos\n",
        "# over 1.5 ft away >= 70 - últimos 5 jogos\n",
        "# over 1.5 ft home >= 70 - últimos 10 jogos\n",
        "# over 1.5 ft away >= 70 - últimos 10 jogos\n",
        "# média gols feitos + sofridos home >= 1 - últimos 5 jogos\n",
        "# média gols feitos + sofridos away >= 1 - últimos 5 jogos\n",
        "\n",
        "\n",
        "\n",
        "selecao05 =  ((df4['md5_home_25ft'] >= 70) & (df4['md5_away_15ft'] >= 0) & \n",
        "             (df4['md10_home_25ft'] >= 70) & (df4['md10_away_15ft'] >= 0) &\n",
        "             ((df4['md5_gols_feitos_home_ft'] + df4['md5_gols_sofridos_home_ft']) >= 2.0) & \n",
        "             ((df4['md5_gols_feitos_away_ft'] + df4['md5_gols_sofridos_away_ft']) >= 0)&\n",
        "             ((final['FT_Odds_Over25'] <= 1.7) | (final['Odds_H'] <= 1.7)))\n",
        "\n",
        "\n",
        "final_over05ht = df4[selecao05]\n",
        "\n",
        "final_over05ht.to_excel(\"Jogos para Over 0.5 HT.xlsx\", sheet_name='Over 05HT', encoding='utf-8', index=False)"
      ],
      "metadata": {
        "id": "L_8wACu4tk_g"
      },
      "execution_count": null,
      "outputs": []
    }
  ]
}